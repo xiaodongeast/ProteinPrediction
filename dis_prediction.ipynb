{
 "cells": [
  {
   "cell_type": "code",
   "execution_count": 4,
   "metadata": {},
   "outputs": [],
   "source": [
    "from string import *\n",
    "from sys import argv\n",
    "from Bio import File\n",
    "from Bio import SeqIO\n",
    "import sys\n",
    "import tempfile\n",
    "import os\n",
    "from os import system\n",
    "import subprocess"
   ]
  },
  {
   "cell_type": "code",
   "execution_count": 5,
   "metadata": {},
   "outputs": [],
   "source": [
    "NN_bin = './disembl'\n",
    "SG_bin = './sav_gol'\n",
    "\n",
    "def JensenNet(sequence):\n",
    "    outFile = tempfile.mktemp()\n",
    "    inFile= tempfile.mktemp()\n",
    "    \n",
    "    open(inFile,'w').write(sequence+'\\n')\n",
    "    #inFile = 'OC1.txt'\n",
    "    #outFile ='OC2.txt'\n",
    "    system(NN_bin + '< ' + inFile +' >' + outFile)\n",
    "    REM465 = []\n",
    "    COILS = []\n",
    "    HOTLOOPS = []\n",
    "    resultsFile = open(outFile,'r')\n",
    "    results = resultsFile.readlines()\n",
    "    resultsFile.close()\n",
    "    for result in results:\n",
    "        result =result.split()\n",
    "        coil = round(float(result[0]),6)\n",
    "        COILS.append(coil)\n",
    "        hotloop = round(float(result[1]),6)\n",
    "        HOTLOOPS.append(hotloop)\n",
    "        rem465 = round(float(result[2]),6)\n",
    "        REM465.append(rem465)\n",
    "    os.remove(inFile)\n",
    "    os.remove(outFile)\n",
    "    return COILS, HOTLOOPS, REM465\n",
    "\n",
    "def getSlices(NNdata, fold, join_frame, peak_frame, expect_val):\n",
    "    slices = []\n",
    "    inSlice = 0\n",
    "    for i in range(len(NNdata)):\n",
    "        if inSlice:\n",
    "            if NNdata[i] < expect_val:\n",
    "                if maxSlice >= fold*expect_val:\n",
    "                    slices.append([beginSlice, endSlice])\n",
    "                inSlice = 0\n",
    "            else:\n",
    "                endSlice += 1\n",
    "                if NNdata[i] > maxSlice:\n",
    "                    maxSlice = NNdata[i]\n",
    "        elif NNdata[i] >= expect_val:\n",
    "            beginSlice = i\n",
    "            endSlice = i\n",
    "            inSlice = 1\n",
    "            maxSlice = NNdata[i]\n",
    "    if inSlice and maxSlice >= fold*expect_val:\n",
    "        slices.append([beginSlice, endSlice])\n",
    "\n",
    "    i = 0\n",
    "    while i < len(slices):\n",
    "        if i+1 < len(slices) and slices[i+1][0]-slices[i][1] <= join_frame:\n",
    "            slices[i] = [ slices[i][0], slices[i+1][1] ]\n",
    "            del slices[i+1]\n",
    "        elif slices[i][1]-slices[i][0]+1 < peak_frame:\n",
    "            del slices[i]\n",
    "        else:\n",
    "            i += 1\n",
    "    return slices\n",
    "\n",
    "\n",
    "def reportSlicesTXT(slices, sequence):\n",
    "    if slices == []:\n",
    "        s = sequence.lower()\n",
    "    else:\n",
    "        if slices[0][0] > 0:\n",
    "            s = (sequence[0:slices[0][0]]).lower()\n",
    "        else:\n",
    "            s = ''\n",
    "        for i in range(len(slices)):\n",
    "            if i > 0:\n",
    "                sys.stdout.write(', ')\n",
    "            sys.stdout.write( str(slices[i][0]+1) + '-' + str(slices[i][1]+1) )\n",
    "            s = s + (sequence[slices[i][0]:(slices[i][1]+1)]).upper()\n",
    "            if i < len(slices)-1:\n",
    "                s = s + (sequence[(slices[i][1]+1):(slices[i+1][0])]).lower()\n",
    "            elif slices[i][1] < len(sequence)-1:\n",
    "                s = s + (sequence[(slices[i][1]+1):(len(sequence))]).lower()\n",
    "    print ('')\n",
    "    print (s)\n",
    "\n",
    "def new_smooth(window,derivative,predicted_raw):\n",
    "    if len(predicted_raw) < 2*window:\n",
    "        window = len(predicted_raw)/2\n",
    "    elif window == 0:\n",
    "        window = 1\n",
    "    outFile = tempfile.mktemp()\n",
    "    inFile= tempfile.mktemp() \n",
    "    #inFile = 'oc1_test.txt'\n",
    "    #outFile ='oc1_test_result.txt'\n",
    "    with open(inFile, 'w') as filehandle:\n",
    "        for e in predicted_raw:\n",
    "            filehandle.write('%s\\n' % e)   \n",
    "    system_call = SG_bin + ' -V0 -D' + str(derivative) + ' -n' + str(window)+','+str(window) + ' '+ inFile + ' >' + outFile\n",
    "    \n",
    "    system(system_call)\n",
    "    SG_results = []\n",
    "    resultsFile = open(outFile,'r')\n",
    "    results = resultsFile.readlines()\n",
    "    resultsFile.close()\n",
    "    \n",
    "    for result in results:         \n",
    "        temp = round(float(result),6)\n",
    "        SG_results.append(temp)    \n",
    "    os.remove(outFile)\n",
    "    os.remove(inFile)\n",
    "    return SG_results"
   ]
  },
  {
   "cell_type": "code",
   "execution_count": 6,
   "metadata": {},
   "outputs": [],
   "source": [
    "smooth_frame = 8\n",
    "peak_frame = 8\n",
    "join_frame = 4\n",
    "fold_coils = 1.4\n",
    "fold_hotloops = 1.2\n",
    "fold_rem465 = 1.2\n",
    "sequence = 'STVSDKFPHHHHHHHHHHHPHHHQRLAGNVSGSFTLMRDE'\n",
    "COILS_raw, HOTLOOPS_raw, REM465_raw = JensenNet(sequence)\n",
    "COILS_smooth = new_smooth(smooth_frame,0,COILS_raw)"
   ]
  },
  {
   "cell_type": "markdown",
   "metadata": {},
   "source": [
    "### We will use genetic algorithm. So now define the methods to make different mutations.\n",
    "## Do not forget to remove the random seed.\n",
    "use python list instead of numpy because list allow me to pop and insert easily. \n",
    "Each seq is very small, so right now I do not worry about the Memory and the Speed\n",
    "\n",
    "All the index will follow python rule instead of biology"
   ]
  },
  {
   "cell_type": "code",
   "execution_count": 177,
   "metadata": {},
   "outputs": [],
   "source": [
    "import random\n",
    "\n",
    "# set seed for now. \n",
    "random.seed(0)\n",
    "\n",
    "def generate_parents(sequence,num_parents=50): # by default get 50 seq as the parents\n",
    "    \"\"\"generate parents for the GA by random shuffling the seq\"\"\"\n",
    "    count  = 0\n",
    "    parents = set()\n",
    "    if not sequence:\n",
    "        print('you do not have input')\n",
    "        return\n",
    "    while True:\n",
    "        temp = list(sequence) \n",
    "        random.shuffle(temp)\n",
    "        temp =''.join(temp)\n",
    "        if temp not in parents:\n",
    "            parents.add(temp)\n",
    "            count += 1\n",
    "        if count == num_parents:\n",
    "            break\n",
    "    return list(parents)\n",
    "\n",
    "def point_transpose(seq, position):\n",
    "    \"\"\"given a position, we move the amino acid in that position to a random place\"\"\"\n",
    "    if not seq or position < 0:\n",
    "        print('illegal input, seq empty or position is minus')\n",
    "        return\n",
    "    temp = list(seq)\n",
    "    good_mutation = False\n",
    "    amino_acid = temp.pop(position) # pop the amino acid at the position\n",
    "    all_pos = list(range(len(temp)))  # all positions from 1,2,3... end of the list\n",
    "    all_pos.remove(position) # remove the position from which we pop the amino acide\n",
    "    \n",
    "    if not good_mutation:\n",
    "        new_pos = random.choice(all_pos) # choose new pos by random    \n",
    "        temp.insert(new_pos, aa) # insert the aa into the new postion\n",
    "        temp = ''.join(temp)\n",
    "        if temp != seq:\n",
    "            good_mutation = True\n",
    "    # do we want to have a new one?\n",
    "    return temp\n",
    "    \n",
    "\n",
    "def frag_transpose(seq,start,stop,to_shuffle):\n",
    "    if not seq or (start < 0) or (stop-start <=0) or stop >= len(seq): # I do not want to use index more that the range\n",
    "        print('illegal input, seq empty or start and stop positions are wrong')\n",
    "        return\n",
    "     \n",
    "    temp = list(seq)\n",
    "    good_mutation = False\n",
    "    try:\n",
    "        frag = temp[start: stop+1]  # pop from temp\n",
    "        left_over = temp[:start] + temp[stop+1:]\n",
    "    except:\n",
    "        print(\"\"\"cannot retrive the frag,the length of the original list is {}, \n",
    "                your start is {}, and your stop is: {} \"\"\".format(len(temp),start,stop))\n",
    "        return\n",
    "\n",
    "    all_pos = list(range(len(left_over)))   \n",
    "    all_pos.remove(start) # we do not want to be in the same \n",
    "    while not good_mutation:\n",
    "        new_start = random.choice(all_pos)\n",
    "        if to_shuffle:\n",
    "            random.shuffle(frag)\n",
    "        #print(frag)\n",
    "        new_seq = left_over[:new_start] + frag + left_over[new_start:]\n",
    "        new_seq =''.join(new_seq)\n",
    "        if new_seq != seq:\n",
    "            good_mutation = True\n",
    "    return new_seq\n",
    "\n",
    "def frag_disperse(seq, start, stop):\n",
    "    \"\"\" this one we will just disperse the orginal frag into a new list\n",
    "\n",
    "    \"\"\"\n",
    "    \n",
    "    if not seq or (start < 0) or (stop-start <=0) or stop >= len(seq): # I do not want to use index more that the range\n",
    "        print('illegal input, seq empty or start and stop positions are wrong')\n",
    "        return\n",
    "    \n",
    "    good_mutation = False\n",
    "    temp = list(seq)\n",
    "    frag = temp[start:stop+1]\n",
    "    random.shuffle(frag)\n",
    "    left_over = temp[:start] + temp[stop+1:]\n",
    "    all_pos = list(range(len(left_over)))   \n",
    "    \n",
    "    while not good_mutation:\n",
    "        pos_needed = random.sample(all_pos, k = stop-start+1)\n",
    "        pos_needed.sort(reverse = True) # sort it so I can insert from the revese manner\n",
    "        print(pos_needed)\n",
    "        for idx, element in zip(pos_needed,frag):\n",
    "            left_over.insert(idx, element)\n",
    "        if left_over != seq:\n",
    "            good_mutation = True\n",
    "            \n",
    "    return left_over\n",
    "    \n",
    "    \n",
    "    \n",
    "    "
   ]
  },
  {
   "cell_type": "code",
   "execution_count": 131,
   "metadata": {},
   "outputs": [
    {
     "name": "stdout",
     "output_type": "stream",
     "text": [
      "RKHFREV\n",
      "[3, 1, 0]\n",
      "['R', 'R', 'F', 'K', 'E', 'H', 'V']\n"
     ]
    }
   ],
   "source": [
    "s = 'RKHFREV'\n",
    "print(s)\n",
    "print(frag_disperse(s,2,4))"
   ]
  },
  {
   "cell_type": "markdown",
   "metadata": {},
   "source": [
    "### Now we will have a function to calculate the fitness score,identify the position with the highest score"
   ]
  },
  {
   "cell_type": "code",
   "execution_count": 182,
   "metadata": {},
   "outputs": [],
   "source": [
    "#"
   ]
  },
  {
   "cell_type": "code",
   "execution_count": 206,
   "metadata": {},
   "outputs": [],
   "source": [
    "import numpy as np\n",
    "\n",
    "def fitness_one(seq, to_plot = False):\n",
    "    smooth_frame = 8\n",
    "    _, _, raw = JensenNet(seq)\n",
    "    temp_smooth = new_smooth(smooth_frame,0, raw)\n",
    "    if to_plot:\n",
    "        plt.plot(temp_smooth)\n",
    "        plt.axhline(y = 0.5)\n",
    "        plt.axvline(x = np.argmax(temp_smooth))\n",
    "        plt.grid()\n",
    "        plt.title('Disorder of '+ sequence)\n",
    "        plt.text(0,0.35, 'mean disorder: {}'.format(round(np.mean(temp_smooth),3)))\n",
    "        plt.text(np.argmax(temp_smooth)+1,max(temp_smooth)-0.05,'max:{}'.format(round(max(temp_smooth),3)))\n",
    "    return seq, np.mean(temp_smooth), np.argmax(temp_smooth),max(temp_smooth)\n",
    "    "
   ]
  },
  {
   "cell_type": "code",
   "execution_count": 216,
   "metadata": {},
   "outputs": [
    {
     "name": "stdout",
     "output_type": "stream",
     "text": [
      "generate 2000 parents 0.05319499969482422\n"
     ]
    },
    {
     "data": {
      "image/png": "[encoded data removed]",
      "text/plain": [
       "<Figure size 432x288 with 1 Axes>"
      ]
     },
     "metadata": {
      "needs_background": "light"
     },
     "output_type": "display_data"
    }
   ],
   "source": [
    "a,b,c,d = fitness_one(sequence, True)\n",
    "#print(a, b ,c)\n",
    "\n",
    "seed = 'STVSDKFPHHHHHHHHHHHPHHHQRLAGNVSGSFTLMRDE' # mouse oc1\n",
    "\n",
    "import time\n",
    "start = time.time()\n",
    "test_seq = generate_parents(seed,2000)\n",
    "end = time.time()\n",
    "\n",
    "print('generate 2000 parents',end-start)\n"
   ]
  },
  {
   "cell_type": "code",
   "execution_count": 170,
   "metadata": {},
   "outputs": [],
   "source": [
    "def scan_population(seqs):\n",
    "    mean_fit, max_idx, max_fit = [],[],[]\n",
    "    for seq in seqs:\n",
    "        _, one_mean_fit, one_max_idx, one_max_fit = fitness_one(seq)\n",
    "        mean_fit.append(one_mean_fit)\n",
    "        max_idx.append(one_max_idx)\n",
    "        max_fit.append(one_max_fit)\n",
    "    return mean_fit, max_idx, max_fit"
   ]
  },
  {
   "cell_type": "code",
   "execution_count": 217,
   "metadata": {},
   "outputs": [],
   "source": [
    "\n",
    "a,b,c = scan_population(test_seq)\n",
    "\n"
   ]
  },
  {
   "cell_type": "code",
   "execution_count": 218,
   "metadata": {},
   "outputs": [
    {
     "data": {
      "text/plain": [
       "('QHSPHRHLFAHHMKHTGFTNHSVDRPDHVGHHELHSHHHS', 0.5275054, 0, 0.929287)"
      ]
     },
     "execution_count": 218,
     "metadata": {},
     "output_type": "execute_result"
    },
    {
     "data": {
      "image/png": "[encoded data removed]",
      "text/plain": [
       "<Figure size 432x288 with 1 Axes>"
      ]
     },
     "metadata": {
      "needs_background": "light"
     },
     "output_type": "display_data"
    }
   ],
   "source": [
    "idx = np.argmin(a)\n",
    "test_seq[idx]\n",
    "\n",
    "fitness_one(test_seq[idx],True)\n",
    "\n"
   ]
  },
  {
   "cell_type": "code",
   "execution_count": 219,
   "metadata": {},
   "outputs": [
    {
     "data": {
      "text/plain": [
       "('STVSDKFPHHHHHHHHHHHPHHHQRLAGNVSGSFTLMRDE', 0.659527675, 18, 0.912478)"
      ]
     },
     "execution_count": 219,
     "metadata": {},
     "output_type": "execute_result"
    },
    {
     "data": {
      "image/png": "[encoded data removed]",
      "text/plain": [
       "<Figure size 432x288 with 1 Axes>"
      ]
     },
     "metadata": {
      "needs_background": "light"
     },
     "output_type": "display_data"
    }
   ],
   "source": [
    "fitness_one(seed,True)"
   ]
  },
  {
   "cell_type": "code",
   "execution_count": 140,
   "metadata": {},
   "outputs": [
    {
     "name": "stderr",
     "output_type": "stream",
     "text": [
      "/Users/xiaodong/anaconda3/envs/NYC2020/lib/python3.7/site-packages/ipykernel_launcher.py:5: MatplotlibDeprecationWarning: Adding an axes using the same arguments as a previous axes currently reuses the earlier instance.  In a future version, a new instance will always be created and returned.  Meanwhile, this warning can be suppressed, and the future behavior ensured, by passing a unique label to each axes instance.\n",
      "  \"\"\"\n"
     ]
    },
    {
     "data": {
      "text/plain": [
       "<matplotlib.lines.Line2D at 0x119e2ac10>"
      ]
     },
     "execution_count": 140,
     "metadata": {},
     "output_type": "execute_result"
    },
    {
     "data": {
      "image/png": "[encoded data removed]",
      "text/plain": [
       "<Figure size 432x288 with 3 Axes>"
      ]
     },
     "metadata": {
      "needs_background": "light"
     },
     "output_type": "display_data"
    }
   ],
   "source": [
    "import matplotlib.pyplot as plt\n",
    "%matplotlib inline\n",
    "\n",
    "plt.subplot(221)\n",
    "ax1=plt.subplot(2, 2, 1)\n",
    "ax2 = plt.subplot(2, 2, 2)\n",
    "ax3 = plt.subplot(2, 2, 3)\n",
    "ax1.plot(COILS_smooth)\n",
    "ax1.axhline(y=0.5)\n",
    "ax2.plot(HOTLOOPS_smooth)\n",
    "ax2.axhline(y=0.5)\n",
    "ax3.plot(REM465_smooth)\n",
    "ax3.axhline(y=0.5)\n",
    "ax3.axhline(y=1)\n",
    "# The REM465_smooth is the one we loved"
   ]
  },
  {
   "cell_type": "code",
   "execution_count": 144,
   "metadata": {},
   "outputs": [
    {
     "name": "stdout",
     "output_type": "stream",
     "text": [
      "0.757692\n"
     ]
    },
    {
     "data": {
      "text/plain": [
       "40"
      ]
     },
     "execution_count": 144,
     "metadata": {},
     "output_type": "execute_result"
    }
   ],
   "source": [
    "print(REM465_smooth[-2])\n",
    "len(REM465_smooth)"
   ]
  },
  {
   "cell_type": "code",
   "execution_count": null,
   "metadata": {},
   "outputs": [],
   "source": []
  }
 ],
 "metadata": {
  "kernelspec": {
   "display_name": "Python 3",
   "language": "python",
   "name": "python3"
  },
  "language_info": {
   "codemirror_mode": {
    "name": "ipython",
    "version": 3
   },
   "file_extension": ".py",
   "mimetype": "text/x-python",
   "name": "python",
   "nbconvert_exporter": "python",
   "pygments_lexer": "ipython3",
   "version": "3.7.6"
  }
 },
 "nbformat": 4,
 "nbformat_minor": 4
}
